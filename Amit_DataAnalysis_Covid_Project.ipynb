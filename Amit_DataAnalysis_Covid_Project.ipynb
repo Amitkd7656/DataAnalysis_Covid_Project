{
 "cells": [
  {
   "cell_type": "code",
   "execution_count": 1,
   "id": "f61605a8",
   "metadata": {},
   "outputs": [],
   "source": []
  },
  {
   "cell_type": "code",
   "execution_count": null,
   "id": "02f09d33",
   "metadata": {},
   "outputs": [],
   "source": []
  },
  {
   "cell_type": "code",
   "execution_count": null,
   "id": "2c70744e",
   "metadata": {},
   "outputs": [],
   "source": [
    "import requests\n",
    "import pandas as pd\n",
    "import matplotlib.pyplot as plt\n",
    "import seaborn as sns"
   ]
  },
  {
   "cell_type": "code",
   "execution_count": 2,
   "id": "fa788ce2",
   "metadata": {},
   "outputs": [],
   "source": [
    "# Fetching data from the provided link\n",
    "url = 'https://www.mohfw.gov.in/data/datanew.json'\n",
    "response = requests.get(url)\n",
    "data = response.json()"
   ]
  },
  {
   "cell_type": "code",
   "execution_count": 3,
   "id": "a8c84084",
   "metadata": {},
   "outputs": [],
   "source": [
    "# Converting the data to a DataFrame\n",
    "df = pd.DataFrame(data)"
   ]
  },
  {
   "cell_type": "code",
   "execution_count": 4,
   "id": "d87bb6d5",
   "metadata": {},
   "outputs": [],
   "source": [
    "# Filtering out unnecessary rows\n",
    "df = df[1:][['state_name', 'active', 'cured', 'death']].astype({'active': int, 'cured': int, 'death': int})"
   ]
  },
  {
   "cell_type": "code",
   "execution_count": 5,
   "id": "05c4cf6d",
   "metadata": {},
   "outputs": [],
   "source": [
    "df.to_csv('covid_data.csv', index=False)"
   ]
  },
  {
   "cell_type": "code",
   "execution_count": 6,
   "id": "4a587e0e",
   "metadata": {},
   "outputs": [],
   "source": [
    "df1=pd.read_csv('covid_data.csv')"
   ]
  },
  {
   "cell_type": "code",
   "execution_count": 7,
   "id": "394817e6",
   "metadata": {},
   "outputs": [],
   "source": [
    "df1 = df1.iloc[1:]"
   ]
  },
  {
   "cell_type": "code",
   "execution_count": 8,
   "id": "506b4303",
   "metadata": {},
   "outputs": [],
   "source": [
    "df1.to_csv('covid_data_without_first_row.csv', index=False)"
   ]
  },
  {
   "cell_type": "code",
   "execution_count": 9,
   "id": "8d8e5490",
   "metadata": {},
   "outputs": [
    {
     "data": {
      "text/html": [
       "<div>\n",
       "<style scoped>\n",
       "    .dataframe tbody tr th:only-of-type {\n",
       "        vertical-align: middle;\n",
       "    }\n",
       "\n",
       "    .dataframe tbody tr th {\n",
       "        vertical-align: top;\n",
       "    }\n",
       "\n",
       "    .dataframe thead th {\n",
       "        text-align: right;\n",
       "    }\n",
       "</style>\n",
       "<table border=\"1\" class=\"dataframe\">\n",
       "  <thead>\n",
       "    <tr style=\"text-align: right;\">\n",
       "      <th></th>\n",
       "      <th>state_name</th>\n",
       "      <th>active</th>\n",
       "      <th>cured</th>\n",
       "      <th>death</th>\n",
       "    </tr>\n",
       "  </thead>\n",
       "  <tbody>\n",
       "    <tr>\n",
       "      <th>1</th>\n",
       "      <td>Arunachal Pradesh</td>\n",
       "      <td>0</td>\n",
       "      <td>66753</td>\n",
       "      <td>296</td>\n",
       "    </tr>\n",
       "    <tr>\n",
       "      <th>2</th>\n",
       "      <td>Assam</td>\n",
       "      <td>0</td>\n",
       "      <td>738130</td>\n",
       "      <td>8035</td>\n",
       "    </tr>\n",
       "    <tr>\n",
       "      <th>3</th>\n",
       "      <td>Bihar</td>\n",
       "      <td>0</td>\n",
       "      <td>842953</td>\n",
       "      <td>12314</td>\n",
       "    </tr>\n",
       "    <tr>\n",
       "      <th>4</th>\n",
       "      <td>Chandigarh</td>\n",
       "      <td>0</td>\n",
       "      <td>99514</td>\n",
       "      <td>1185</td>\n",
       "    </tr>\n",
       "    <tr>\n",
       "      <th>5</th>\n",
       "      <td>Chhattisgarh</td>\n",
       "      <td>1</td>\n",
       "      <td>1173507</td>\n",
       "      <td>14190</td>\n",
       "    </tr>\n",
       "    <tr>\n",
       "      <th>6</th>\n",
       "      <td>Dadra and Nagar Haveli and Daman and Diu</td>\n",
       "      <td>0</td>\n",
       "      <td>11588</td>\n",
       "      <td>4</td>\n",
       "    </tr>\n",
       "    <tr>\n",
       "      <th>7</th>\n",
       "      <td>Delhi</td>\n",
       "      <td>2</td>\n",
       "      <td>2014444</td>\n",
       "      <td>26668</td>\n",
       "    </tr>\n",
       "    <tr>\n",
       "      <th>8</th>\n",
       "      <td>Goa*</td>\n",
       "      <td>2</td>\n",
       "      <td>259362</td>\n",
       "      <td>4014</td>\n",
       "    </tr>\n",
       "    <tr>\n",
       "      <th>9</th>\n",
       "      <td>Gujarat</td>\n",
       "      <td>2</td>\n",
       "      <td>1280379</td>\n",
       "      <td>11080</td>\n",
       "    </tr>\n",
       "    <tr>\n",
       "      <th>10</th>\n",
       "      <td>Haryana</td>\n",
       "      <td>0</td>\n",
       "      <td>1068189</td>\n",
       "      <td>10779</td>\n",
       "    </tr>\n",
       "    <tr>\n",
       "      <th>11</th>\n",
       "      <td>Himachal Pradesh</td>\n",
       "      <td>2</td>\n",
       "      <td>318699</td>\n",
       "      <td>4245</td>\n",
       "    </tr>\n",
       "    <tr>\n",
       "      <th>12</th>\n",
       "      <td>Jammu and Kashmir</td>\n",
       "      <td>0</td>\n",
       "      <td>477247</td>\n",
       "      <td>4792</td>\n",
       "    </tr>\n",
       "    <tr>\n",
       "      <th>13</th>\n",
       "      <td>Jharkhand</td>\n",
       "      <td>4</td>\n",
       "      <td>438497</td>\n",
       "      <td>5334</td>\n",
       "    </tr>\n",
       "    <tr>\n",
       "      <th>14</th>\n",
       "      <td>Karnataka</td>\n",
       "      <td>8</td>\n",
       "      <td>4048569</td>\n",
       "      <td>40359</td>\n",
       "    </tr>\n",
       "    <tr>\n",
       "      <th>15</th>\n",
       "      <td>Kerala***</td>\n",
       "      <td>194</td>\n",
       "      <td>6835589</td>\n",
       "      <td>72043</td>\n",
       "    </tr>\n",
       "    <tr>\n",
       "      <th>16</th>\n",
       "      <td>Ladakh</td>\n",
       "      <td>0</td>\n",
       "      <td>29372</td>\n",
       "      <td>231</td>\n",
       "    </tr>\n",
       "    <tr>\n",
       "      <th>17</th>\n",
       "      <td>Lakshadweep</td>\n",
       "      <td>0</td>\n",
       "      <td>11363</td>\n",
       "      <td>52</td>\n",
       "    </tr>\n",
       "    <tr>\n",
       "      <th>18</th>\n",
       "      <td>Madhya Pradesh</td>\n",
       "      <td>1</td>\n",
       "      <td>1045768</td>\n",
       "      <td>10786</td>\n",
       "    </tr>\n",
       "    <tr>\n",
       "      <th>19</th>\n",
       "      <td>Maharashtra</td>\n",
       "      <td>13</td>\n",
       "      <td>8023363</td>\n",
       "      <td>148563</td>\n",
       "    </tr>\n",
       "    <tr>\n",
       "      <th>20</th>\n",
       "      <td>Manipur</td>\n",
       "      <td>0</td>\n",
       "      <td>137885</td>\n",
       "      <td>2149</td>\n",
       "    </tr>\n",
       "    <tr>\n",
       "      <th>21</th>\n",
       "      <td>Meghalaya</td>\n",
       "      <td>0</td>\n",
       "      <td>95362</td>\n",
       "      <td>1628</td>\n",
       "    </tr>\n",
       "    <tr>\n",
       "      <th>22</th>\n",
       "      <td>Mizoram</td>\n",
       "      <td>0</td>\n",
       "      <td>238828</td>\n",
       "      <td>734</td>\n",
       "    </tr>\n",
       "    <tr>\n",
       "      <th>23</th>\n",
       "      <td>Nagaland</td>\n",
       "      <td>0</td>\n",
       "      <td>35251</td>\n",
       "      <td>782</td>\n",
       "    </tr>\n",
       "    <tr>\n",
       "      <th>24</th>\n",
       "      <td>Odisha</td>\n",
       "      <td>2</td>\n",
       "      <td>1339172</td>\n",
       "      <td>9215</td>\n",
       "    </tr>\n",
       "    <tr>\n",
       "      <th>25</th>\n",
       "      <td>Puducherry</td>\n",
       "      <td>0</td>\n",
       "      <td>175570</td>\n",
       "      <td>1981</td>\n",
       "    </tr>\n",
       "    <tr>\n",
       "      <th>26</th>\n",
       "      <td>Punjab**</td>\n",
       "      <td>2</td>\n",
       "      <td>773101</td>\n",
       "      <td>20569</td>\n",
       "    </tr>\n",
       "    <tr>\n",
       "      <th>27</th>\n",
       "      <td>Rajasthan</td>\n",
       "      <td>0</td>\n",
       "      <td>1316731</td>\n",
       "      <td>9736</td>\n",
       "    </tr>\n",
       "    <tr>\n",
       "      <th>28</th>\n",
       "      <td>Sikkim</td>\n",
       "      <td>0</td>\n",
       "      <td>44431</td>\n",
       "      <td>501</td>\n",
       "    </tr>\n",
       "    <tr>\n",
       "      <th>29</th>\n",
       "      <td>Tamil Nadu</td>\n",
       "      <td>18</td>\n",
       "      <td>3572665</td>\n",
       "      <td>38081</td>\n",
       "    </tr>\n",
       "    <tr>\n",
       "      <th>30</th>\n",
       "      <td>Telangana</td>\n",
       "      <td>5</td>\n",
       "      <td>840377</td>\n",
       "      <td>4111</td>\n",
       "    </tr>\n",
       "    <tr>\n",
       "      <th>31</th>\n",
       "      <td>Tripura</td>\n",
       "      <td>0</td>\n",
       "      <td>107553</td>\n",
       "      <td>942</td>\n",
       "    </tr>\n",
       "    <tr>\n",
       "      <th>32</th>\n",
       "      <td>Uttarakhand</td>\n",
       "      <td>0</td>\n",
       "      <td>444820</td>\n",
       "      <td>7768</td>\n",
       "    </tr>\n",
       "    <tr>\n",
       "      <th>33</th>\n",
       "      <td>Uttar Pradesh</td>\n",
       "      <td>61</td>\n",
       "      <td>2121729</td>\n",
       "      <td>23714</td>\n",
       "    </tr>\n",
       "    <tr>\n",
       "      <th>34</th>\n",
       "      <td>West Bengal</td>\n",
       "      <td>1</td>\n",
       "      <td>2104986</td>\n",
       "      <td>21555</td>\n",
       "    </tr>\n",
       "    <tr>\n",
       "      <th>35</th>\n",
       "      <td>NaN</td>\n",
       "      <td>318</td>\n",
       "      <td>44468328</td>\n",
       "      <td>533298</td>\n",
       "    </tr>\n",
       "  </tbody>\n",
       "</table>\n",
       "</div>"
      ],
      "text/plain": [
       "                                  state_name  active     cured   death\n",
       "1                          Arunachal Pradesh       0     66753     296\n",
       "2                                      Assam       0    738130    8035\n",
       "3                                      Bihar       0    842953   12314\n",
       "4                                 Chandigarh       0     99514    1185\n",
       "5                               Chhattisgarh       1   1173507   14190\n",
       "6   Dadra and Nagar Haveli and Daman and Diu       0     11588       4\n",
       "7                                      Delhi       2   2014444   26668\n",
       "8                                       Goa*       2    259362    4014\n",
       "9                                    Gujarat       2   1280379   11080\n",
       "10                                   Haryana       0   1068189   10779\n",
       "11                          Himachal Pradesh       2    318699    4245\n",
       "12                         Jammu and Kashmir       0    477247    4792\n",
       "13                                 Jharkhand       4    438497    5334\n",
       "14                                 Karnataka       8   4048569   40359\n",
       "15                                 Kerala***     194   6835589   72043\n",
       "16                                    Ladakh       0     29372     231\n",
       "17                               Lakshadweep       0     11363      52\n",
       "18                            Madhya Pradesh       1   1045768   10786\n",
       "19                               Maharashtra      13   8023363  148563\n",
       "20                                   Manipur       0    137885    2149\n",
       "21                                 Meghalaya       0     95362    1628\n",
       "22                                   Mizoram       0    238828     734\n",
       "23                                  Nagaland       0     35251     782\n",
       "24                                    Odisha       2   1339172    9215\n",
       "25                                Puducherry       0    175570    1981\n",
       "26                                  Punjab**       2    773101   20569\n",
       "27                                 Rajasthan       0   1316731    9736\n",
       "28                                    Sikkim       0     44431     501\n",
       "29                                Tamil Nadu      18   3572665   38081\n",
       "30                                 Telangana       5    840377    4111\n",
       "31                                   Tripura       0    107553     942\n",
       "32                               Uttarakhand       0    444820    7768\n",
       "33                             Uttar Pradesh      61   2121729   23714\n",
       "34                               West Bengal       1   2104986   21555\n",
       "35                                       NaN     318  44468328  533298"
      ]
     },
     "execution_count": 9,
     "metadata": {},
     "output_type": "execute_result"
    }
   ],
   "source": [
    "df1"
   ]
  },
  {
   "cell_type": "markdown",
   "id": "fa4d487c",
   "metadata": {},
   "source": [
    "****Handling the NaN Values****"
   ]
  },
  {
   "cell_type": "code",
   "execution_count": 10,
   "id": "d3ff1769",
   "metadata": {},
   "outputs": [],
   "source": [
    "import numpy as np\n",
    "def handle_null_values(df1):\n",
    "    for col in df.columns:\n",
    "        if df1[col].dtype==\"int64\":\n",
    "            df1[col]=df1[col].replace(np.nan,0)\n",
    "            df1[col]=df1[col].replace(0,np.median(df1[col]))\n",
    "        elif df1[col].dtype==\"float64\":\n",
    "            df1[col]=df1[col].replace(np.nan,np.mean(df1[col]))\n",
    "        else:\n",
    "            df1[col]=df1[col].replace(np.nan,df1[col].mode()[0])\n",
    "    return df1\n",
    "df1=handle_null_values(df1)"
   ]
  },
  {
   "cell_type": "markdown",
   "id": "dec27d46",
   "metadata": {},
   "source": [
    "####Arranging the data in decending order###"
   ]
  },
  {
   "cell_type": "code",
   "execution_count": 15,
   "id": "25ca586f",
   "metadata": {},
   "outputs": [],
   "source": [
    "# Sorting the DataFrame based on different criteria\n",
    "top_active_states = df1.sort_values(by='active', ascending=False).head(7)\n",
    "top_cured_states = df1.sort_values(by='cured', ascending=False).head(7)\n",
    "top_death_states = df1.sort_values(by='death', ascending=False).head(7)"
   ]
  },
  {
   "cell_type": "code",
   "execution_count": null,
   "id": "2395432e",
   "metadata": {},
   "outputs": [],
   "source": []
  },
  {
   "cell_type": "code",
   "execution_count": 16,
   "id": "b02a5d08",
   "metadata": {},
   "outputs": [
    {
     "data": {
      "text/plain": [
       "<Figure size 1000x1500 with 0 Axes>"
      ]
     },
     "execution_count": 16,
     "metadata": {},
     "output_type": "execute_result"
    },
    {
     "data": {
      "image/png": "[encoded data removed]",
      "text/plain": [
       "<Figure size 640x480 with 1 Axes>"
      ]
     },
     "metadata": {},
     "output_type": "display_data"
    },
    {
     "data": {
      "text/plain": [
       "<Figure size 1000x1500 with 0 Axes>"
      ]
     },
     "metadata": {},
     "output_type": "display_data"
    }
   ],
   "source": [
    "# Visualization 1: Top Seven States with Maximum Active Cases\n",
    "\n",
    "sns.barplot(x='active', y='state_name', data=top_active_states, palette='viridis')\n",
    "plt.title('Top Seven States with Maximum Active Cases')\n",
    "plt.xlabel('Active Cases')\n",
    "plt.ylabel('States')\n",
    "plt.figure(figsize=(10, 15))"
   ]
  },
  {
   "cell_type": "code",
   "execution_count": 17,
   "id": "4ae4dcec",
   "metadata": {},
   "outputs": [
    {
     "data": {
      "text/plain": [
       "<Figure size 1000x1500 with 0 Axes>"
      ]
     },
     "execution_count": 17,
     "metadata": {},
     "output_type": "execute_result"
    },
    {
     "data": {
      "image/png": "[encoded data removed]",
      "text/plain": [
       "<Figure size 640x480 with 1 Axes>"
      ]
     },
     "metadata": {},
     "output_type": "display_data"
    },
    {
     "data": {
      "text/plain": [
       "<Figure size 1000x1500 with 0 Axes>"
      ]
     },
     "metadata": {},
     "output_type": "display_data"
    }
   ],
   "source": [
    "# Visualization 2: Top Seven States with Maximum Cured Cases\n",
    "\n",
    "sns.barplot(x='cured', y='state_name', data=top_cured_states, palette='plasma')\n",
    "plt.title('Top Seven States with Maximum Cured Cases')\n",
    "plt.xlabel('Cured Cases')\n",
    "plt.ylabel('States')\n",
    "plt.figure(figsize=(10, 15))"
   ]
  },
  {
   "cell_type": "code",
   "execution_count": 18,
   "id": "7aea4a1d",
   "metadata": {},
   "outputs": [
    {
     "data": {
      "text/plain": [
       "Text(0, 0.5, 'States')"
      ]
     },
     "execution_count": 18,
     "metadata": {},
     "output_type": "execute_result"
    },
    {
     "data": {
      "image/png": "[encoded data removed]",
      "text/plain": [
       "<Figure size 640x480 with 1 Axes>"
      ]
     },
     "metadata": {},
     "output_type": "display_data"
    }
   ],
   "source": [
    "# Visualization 3: Top Seven States with Maximum Death Cases\n",
    "\n",
    "sns.barplot(x='death', y='state_name', data=top_death_states, palette='magma')\n",
    "plt.title('Top Seven States with Maximum Death Cases')\n",
    "plt.xlabel('Death Cases')\n",
    "plt.ylabel('States')"
   ]
  },
  {
   "cell_type": "code",
   "execution_count": null,
   "id": "0ab53477",
   "metadata": {},
   "outputs": [],
   "source": []
  }
 ],
 "metadata": {
  "kernelspec": {
   "display_name": "Python 3 (ipykernel)",
   "language": "python",
   "name": "python3"
  },
  "language_info": {
   "codemirror_mode": {
    "name": "ipython",
    "version": 3
   },
   "file_extension": ".py",
   "mimetype": "text/x-python",
   "name": "python",
   "nbconvert_exporter": "python",
   "pygments_lexer": "ipython3",
   "version": "3.9.13"
  }
 },
 "nbformat": 4,
 "nbformat_minor": 5
}
